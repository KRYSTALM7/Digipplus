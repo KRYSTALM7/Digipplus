{
 "cells": [
  {
   "cell_type": "code",
   "execution_count": 1,
   "id": "cebc62f8",
   "metadata": {},
   "outputs": [],
   "source": [
    "from pptx import Presentation\n",
    "from pptx.util import Pt\n",
    "from pptx.dml.color import RGBColor"
   ]
  },
  {
   "cell_type": "code",
   "execution_count": 2,
   "id": "84513616",
   "metadata": {},
   "outputs": [],
   "source": [
    "# Define the paths to the input text files and font file\n",
    "slide1_input_path = 'sample_slide1_input.txt'\n",
    "slide2_input_path = 'sample_slide2_input.txt'\n",
    "font_file_path = 'sample_font_file.ttf'"
   ]
  },
  {
   "cell_type": "code",
   "execution_count": 3,
   "id": "c6fac7f1",
   "metadata": {},
   "outputs": [],
   "source": [
    "# Read content from the input text files\n",
    "with open(slide1_input_path, 'r') as file:\n",
    "    slide1_content = file.read()\n",
    "\n",
    "with open(slide2_input_path, 'r') as file:\n",
    "    slide2_content = file.read()\n"
   ]
  },
  {
   "cell_type": "code",
   "execution_count": 4,
   "id": "1d7dcfe0",
   "metadata": {},
   "outputs": [],
   "source": [
    "# Create a new presentation\n",
    "presentation = Presentation()"
   ]
  },
  {
   "cell_type": "code",
   "execution_count": 5,
   "id": "ba362775",
   "metadata": {},
   "outputs": [],
   "source": [
    "def add_text_box(slide, left, top, width, height, text, font_file):\n",
    "    txBox = slide.shapes.add_textbox(left, top, width, height)\n",
    "    tf = txBox.text_frame\n",
    "    p = tf.add_paragraph()\n",
    "    p.text = text\n",
    "    p.font.size = Pt(20)  # Adjust the font size as needed\n",
    "    p.font.name = font_file\n",
    "    \n",
    "# Slide 1\n",
    "slide1 = presentation.slides.add_slide(presentation.slide_layouts[1])\n",
    "add_text_box(slide1, 0, 0, 20, 7.5, slide1_content, font_file_path)\n",
    "\n",
    "# Slide 2\n",
    "slide2 = presentation.slides.add_slide(presentation.slide_layouts[1])\n",
    "add_text_box(slide2, 0, 0, 20, 7.5, slide2_content, font_file_path)"
   ]
  },
  {
   "cell_type": "code",
   "execution_count": 6,
   "id": "c15b6a47",
   "metadata": {},
   "outputs": [],
   "source": [
    "# Save the PowerPoint presentation\n",
    "output_path = 'output.pptx'\n",
    "presentation.save(output_path)\n"
   ]
  }
 ],
 "metadata": {
  "kernelspec": {
   "display_name": "Python 3 (ipykernel)",
   "language": "python",
   "name": "python3"
  },
  "language_info": {
   "codemirror_mode": {
    "name": "ipython",
    "version": 3
   },
   "file_extension": ".py",
   "mimetype": "text/x-python",
   "name": "python",
   "nbconvert_exporter": "python",
   "pygments_lexer": "ipython3",
   "version": "3.10.9"
  }
 },
 "nbformat": 4,
 "nbformat_minor": 5
}
